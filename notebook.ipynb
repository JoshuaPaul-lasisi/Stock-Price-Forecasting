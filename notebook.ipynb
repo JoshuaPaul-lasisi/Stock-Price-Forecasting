{
 "cells": [
  {
   "cell_type": "markdown",
   "metadata": {},
   "source": [
    "# Stock Price Forecasting Using Historical Data and Financial Indicators"
   ]
  },
  {
   "cell_type": "markdown",
   "metadata": {},
   "source": [
    "## 1. Project Overview"
   ]
  },
  {
   "cell_type": "markdown",
   "metadata": {},
   "source": [
    "## Introduction\n",
    "This project aims to forecast future stock prices using historical data and various machine learning techniques. The process involves data preprocessing, feature engineering, model building, and evaluation.\n",
    "\n",
    "## Data Preprocessing\n",
    "The dataset includes historical stock prices with columns for Date, Open, High, Low, Close, and Volume. The Date column was converted to datetime format, and various date-based features were created.\n",
    "\n",
    "## Exploratory Data Analysis (EDA)\n",
    "EDA techniques such as line charts, candlestick charts, and correlation analysis were used to understand the data's underlying structure and relationships.\n",
    "\n",
    "## Feature Engineering\n",
    "Features such as lagged prices, technical indicators, and date-based features were engineered to improve the model's predictive performance.\n",
    "\n",
    "## Model Building and Evaluation\n",
    "A RandomForestRegressor was used to predict future stock prices. The model was fine-tuned using GridSearchCV, and its performance was evaluated using metrics like MSE, MAE, and R-Squared.\n",
    "\n",
    "## Forecasting\n",
    "The model was used to predict future stock prices for the next 30 business days. Walk-forward validation was performed to simulate real-time prediction scenarios.\n"
   ]
  },
  {
   "cell_type": "markdown",
   "metadata": {},
   "source": [
    "### Understanding the Data\n",
    "The dataset includes the following columns:\n",
    "\n",
    "- **Date**: Date of the stock data\n",
    "- **Open**: Opening price\n",
    "- **High**: Highest price of the day\n",
    "- **Low**: Lowest price of the day\n",
    "- **Close**: Closing price\n",
    "- **Adj Close**: Adjusted closing price (accounting for corporate actions)\n",
    "- **Volume**: Number of shares traded\n",
    "\n",
    "\n",
    "The dataset spans 1258 days, from September 3, 2019, to August 30, 2024."
   ]
  },
  {
   "cell_type": "markdown",
   "metadata": {},
   "source": [
    "data source: https://finance.yahoo.com/quote/NDAQ/history/?guce_referrer=aHR0cHM6Ly93d3cuZ29vZ2xlLmNvbS8&guce_referrer_sig=AQAAALB1rZy_4joT3mpo_wfv9r9Vd7iSZNLta4NzV0kttnLWT1eDGj7bGAF8EhCU1EAqQ2GAv5TmEocemroSqvY4ajSEp8hC1rNJs9v43gBU-jLP_SYXRiTkppugoPMYOh1foQDMBABm8hTBG1SvgLyf8k3S7r4oJfvUlIWx2Kyj81GL&guccounter=2&period1=1567241948&period2=1724976000 "
   ]
  },
  {
   "cell_type": "markdown",
   "metadata": {},
   "source": [
    "## 2. Imports"
   ]
  },
  {
   "cell_type": "code",
   "execution_count": 1,
   "metadata": {},
   "outputs": [],
   "source": [
    "import pandas as pd\n"
   ]
  },
  {
   "cell_type": "markdown",
   "metadata": {},
   "source": [
    "## 3. Data Loading"
   ]
  },
  {
   "cell_type": "code",
   "execution_count": 5,
   "metadata": {},
   "outputs": [
    {
     "data": {
      "text/html": [
       "<div>\n",
       "<style scoped>\n",
       "    .dataframe tbody tr th:only-of-type {\n",
       "        vertical-align: middle;\n",
       "    }\n",
       "\n",
       "    .dataframe tbody tr th {\n",
       "        vertical-align: top;\n",
       "    }\n",
       "\n",
       "    .dataframe thead th {\n",
       "        text-align: right;\n",
       "    }\n",
       "</style>\n",
       "<table border=\"1\" class=\"dataframe\">\n",
       "  <thead>\n",
       "    <tr style=\"text-align: right;\">\n",
       "      <th></th>\n",
       "      <th>Date</th>\n",
       "      <th>Open</th>\n",
       "      <th>High</th>\n",
       "      <th>Low</th>\n",
       "      <th>Close</th>\n",
       "      <th>Adj Close</th>\n",
       "      <th>Volume</th>\n",
       "    </tr>\n",
       "  </thead>\n",
       "  <tbody>\n",
       "    <tr>\n",
       "      <th>0</th>\n",
       "      <td>2019-09-03</td>\n",
       "      <td>33.279999</td>\n",
       "      <td>33.366669</td>\n",
       "      <td>33.006668</td>\n",
       "      <td>33.176666</td>\n",
       "      <td>30.771736</td>\n",
       "      <td>1091700</td>\n",
       "    </tr>\n",
       "    <tr>\n",
       "      <th>1</th>\n",
       "      <td>2019-09-04</td>\n",
       "      <td>33.340000</td>\n",
       "      <td>33.389999</td>\n",
       "      <td>33.049999</td>\n",
       "      <td>33.303333</td>\n",
       "      <td>30.889227</td>\n",
       "      <td>1215000</td>\n",
       "    </tr>\n",
       "    <tr>\n",
       "      <th>2</th>\n",
       "      <td>2019-09-05</td>\n",
       "      <td>33.570000</td>\n",
       "      <td>34.036667</td>\n",
       "      <td>33.413334</td>\n",
       "      <td>34.006668</td>\n",
       "      <td>31.541580</td>\n",
       "      <td>1826700</td>\n",
       "    </tr>\n",
       "    <tr>\n",
       "      <th>3</th>\n",
       "      <td>2019-09-06</td>\n",
       "      <td>34.116669</td>\n",
       "      <td>34.813332</td>\n",
       "      <td>34.049999</td>\n",
       "      <td>34.753334</td>\n",
       "      <td>32.234119</td>\n",
       "      <td>2254800</td>\n",
       "    </tr>\n",
       "    <tr>\n",
       "      <th>4</th>\n",
       "      <td>2019-09-09</td>\n",
       "      <td>34.930000</td>\n",
       "      <td>35.086666</td>\n",
       "      <td>34.223331</td>\n",
       "      <td>34.279999</td>\n",
       "      <td>31.795088</td>\n",
       "      <td>1612200</td>\n",
       "    </tr>\n",
       "  </tbody>\n",
       "</table>\n",
       "</div>"
      ],
      "text/plain": [
       "         Date       Open       High        Low      Close  Adj Close   Volume\n",
       "0  2019-09-03  33.279999  33.366669  33.006668  33.176666  30.771736  1091700\n",
       "1  2019-09-04  33.340000  33.389999  33.049999  33.303333  30.889227  1215000\n",
       "2  2019-09-05  33.570000  34.036667  33.413334  34.006668  31.541580  1826700\n",
       "3  2019-09-06  34.116669  34.813332  34.049999  34.753334  32.234119  2254800\n",
       "4  2019-09-09  34.930000  35.086666  34.223331  34.279999  31.795088  1612200"
      ]
     },
     "execution_count": 5,
     "metadata": {},
     "output_type": "execute_result"
    }
   ],
   "source": [
    "stock = pd.read_csv('./datasets/NDAQ.csv')\n",
    "stock.head()"
   ]
  },
  {
   "cell_type": "markdown",
   "metadata": {},
   "source": [
    "## 4. Data Inspection"
   ]
  },
  {
   "cell_type": "code",
   "execution_count": 8,
   "metadata": {},
   "outputs": [
    {
     "name": "stdout",
     "output_type": "stream",
     "text": [
      "<class 'pandas.core.frame.DataFrame'>\n",
      "RangeIndex: 1258 entries, 0 to 1257\n",
      "Data columns (total 7 columns):\n",
      " #   Column     Non-Null Count  Dtype  \n",
      "---  ------     --------------  -----  \n",
      " 0   Date       1258 non-null   object \n",
      " 1   Open       1258 non-null   float64\n",
      " 2   High       1258 non-null   float64\n",
      " 3   Low        1258 non-null   float64\n",
      " 4   Close      1258 non-null   float64\n",
      " 5   Adj Close  1258 non-null   float64\n",
      " 6   Volume     1258 non-null   int64  \n",
      "dtypes: float64(5), int64(1), object(1)\n",
      "memory usage: 68.9+ KB\n"
     ]
    }
   ],
   "source": [
    "stock.info()"
   ]
  },
  {
   "cell_type": "code",
   "execution_count": 9,
   "metadata": {},
   "outputs": [
    {
     "data": {
      "text/html": [
       "<div>\n",
       "<style scoped>\n",
       "    .dataframe tbody tr th:only-of-type {\n",
       "        vertical-align: middle;\n",
       "    }\n",
       "\n",
       "    .dataframe tbody tr th {\n",
       "        vertical-align: top;\n",
       "    }\n",
       "\n",
       "    .dataframe thead th {\n",
       "        text-align: right;\n",
       "    }\n",
       "</style>\n",
       "<table border=\"1\" class=\"dataframe\">\n",
       "  <thead>\n",
       "    <tr style=\"text-align: right;\">\n",
       "      <th></th>\n",
       "      <th>Open</th>\n",
       "      <th>High</th>\n",
       "      <th>Low</th>\n",
       "      <th>Close</th>\n",
       "      <th>Adj Close</th>\n",
       "      <th>Volume</th>\n",
       "    </tr>\n",
       "  </thead>\n",
       "  <tbody>\n",
       "    <tr>\n",
       "      <th>count</th>\n",
       "      <td>1258.000000</td>\n",
       "      <td>1258.000000</td>\n",
       "      <td>1258.000000</td>\n",
       "      <td>1258.000000</td>\n",
       "      <td>1258.000000</td>\n",
       "      <td>1.258000e+03</td>\n",
       "    </tr>\n",
       "    <tr>\n",
       "      <th>mean</th>\n",
       "      <td>52.404936</td>\n",
       "      <td>52.912419</td>\n",
       "      <td>51.883940</td>\n",
       "      <td>52.410776</td>\n",
       "      <td>50.740858</td>\n",
       "      <td>2.570756e+06</td>\n",
       "    </tr>\n",
       "    <tr>\n",
       "      <th>std</th>\n",
       "      <td>10.366754</td>\n",
       "      <td>10.406595</td>\n",
       "      <td>10.317112</td>\n",
       "      <td>10.363064</td>\n",
       "      <td>10.627781</td>\n",
       "      <td>1.448224e+06</td>\n",
       "    </tr>\n",
       "    <tr>\n",
       "      <th>min</th>\n",
       "      <td>25.636667</td>\n",
       "      <td>26.856667</td>\n",
       "      <td>23.886667</td>\n",
       "      <td>24.286667</td>\n",
       "      <td>22.845490</td>\n",
       "      <td>5.754000e+05</td>\n",
       "    </tr>\n",
       "    <tr>\n",
       "      <th>25%</th>\n",
       "      <td>43.530833</td>\n",
       "      <td>43.965834</td>\n",
       "      <td>43.160833</td>\n",
       "      <td>43.512499</td>\n",
       "      <td>41.164408</td>\n",
       "      <td>1.776575e+06</td>\n",
       "    </tr>\n",
       "    <tr>\n",
       "      <th>50%</th>\n",
       "      <td>54.404999</td>\n",
       "      <td>54.935000</td>\n",
       "      <td>54.024999</td>\n",
       "      <td>54.511665</td>\n",
       "      <td>53.011950</td>\n",
       "      <td>2.231550e+06</td>\n",
       "    </tr>\n",
       "    <tr>\n",
       "      <th>75%</th>\n",
       "      <td>60.182499</td>\n",
       "      <td>60.690000</td>\n",
       "      <td>59.665001</td>\n",
       "      <td>60.187499</td>\n",
       "      <td>59.108357</td>\n",
       "      <td>2.916525e+06</td>\n",
       "    </tr>\n",
       "    <tr>\n",
       "      <th>max</th>\n",
       "      <td>71.519997</td>\n",
       "      <td>72.139999</td>\n",
       "      <td>71.139999</td>\n",
       "      <td>72.080002</td>\n",
       "      <td>72.080002</td>\n",
       "      <td>1.827430e+07</td>\n",
       "    </tr>\n",
       "  </tbody>\n",
       "</table>\n",
       "</div>"
      ],
      "text/plain": [
       "              Open         High          Low        Close    Adj Close  \\\n",
       "count  1258.000000  1258.000000  1258.000000  1258.000000  1258.000000   \n",
       "mean     52.404936    52.912419    51.883940    52.410776    50.740858   \n",
       "std      10.366754    10.406595    10.317112    10.363064    10.627781   \n",
       "min      25.636667    26.856667    23.886667    24.286667    22.845490   \n",
       "25%      43.530833    43.965834    43.160833    43.512499    41.164408   \n",
       "50%      54.404999    54.935000    54.024999    54.511665    53.011950   \n",
       "75%      60.182499    60.690000    59.665001    60.187499    59.108357   \n",
       "max      71.519997    72.139999    71.139999    72.080002    72.080002   \n",
       "\n",
       "             Volume  \n",
       "count  1.258000e+03  \n",
       "mean   2.570756e+06  \n",
       "std    1.448224e+06  \n",
       "min    5.754000e+05  \n",
       "25%    1.776575e+06  \n",
       "50%    2.231550e+06  \n",
       "75%    2.916525e+06  \n",
       "max    1.827430e+07  "
      ]
     },
     "execution_count": 9,
     "metadata": {},
     "output_type": "execute_result"
    }
   ],
   "source": [
    "stock.describe()"
   ]
  },
  {
   "cell_type": "markdown",
   "metadata": {},
   "source": [
    "**Observations**:\n",
    "\n",
    "- No missng values\n",
    "- All parameters have simiar ranges except the volume. Scaling is required"
   ]
  },
  {
   "cell_type": "markdown",
   "metadata": {},
   "source": [
    "## 5. Exploratory Data Analysis"
   ]
  },
  {
   "cell_type": "markdown",
   "metadata": {},
   "source": [
    "### Line Charts"
   ]
  },
  {
   "cell_type": "code",
   "execution_count": null,
   "metadata": {},
   "outputs": [],
   "source": [
    "import matplotlib.pyplot as plt\n",
    "\n",
    "plt.figure(figsize=(14, 7))\n",
    "plt.plot(stock.index, stock['Close'], label='Close Price', color='blue')\n",
    "plt.title('Historical Stock Prices')\n",
    "plt.xlabel('Date')\n",
    "plt.ylabel('Price')\n",
    "plt.legend()\n",
    "plt.grid(True)\n",
    "plt.show()"
   ]
  },
  {
   "cell_type": "markdown",
   "metadata": {},
   "source": [
    "### Candlestick charts"
   ]
  },
  {
   "cell_type": "code",
   "execution_count": null,
   "metadata": {},
   "outputs": [],
   "source": [
    "import plotly.graph_objects as go\n",
    "\n",
    "fig = go.Figure(data=[go.Candlestick(x=stock.index,\n",
    "                                     open=stock['Open'],\n",
    "                                     high=stock['High'],\n",
    "                                     low=stock['Low'],\n",
    "                                     close=stock['Close'])])\n",
    "fig.update_layout(title='Candlestick Chart of Stock Prices',\n",
    "                  xaxis_title='Date',\n",
    "                  yaxis_title='Price')\n",
    "fig.show()"
   ]
  },
  {
   "cell_type": "markdown",
   "metadata": {},
   "source": [
    "### Scatter plots"
   ]
  },
  {
   "cell_type": "code",
   "execution_count": null,
   "metadata": {},
   "outputs": [],
   "source": [
    "plt.figure(figsize=(10, 6))\n",
    "plt.scatter(stock['Volume'], stock['Close'], alpha=0.5)\n",
    "plt.title('Volume vs. Closing Price')\n",
    "plt.xlabel('Volume')\n",
    "plt.ylabel('Close Price')\n",
    "plt.grid(True)\n",
    "plt.show()"
   ]
  },
  {
   "cell_type": "markdown",
   "metadata": {},
   "source": [
    "### Summary statistics"
   ]
  },
  {
   "cell_type": "code",
   "execution_count": null,
   "metadata": {},
   "outputs": [],
   "source": [
    "stock[['Open', 'High', 'Low', 'Close', 'Adj Close', 'Volume']].describe()\n"
   ]
  },
  {
   "cell_type": "markdown",
   "metadata": {},
   "source": [
    "### Skewness"
   ]
  },
  {
   "cell_type": "code",
   "execution_count": null,
   "metadata": {},
   "outputs": [],
   "source": [
    "from scipy.stats import skew\n",
    "\n",
    "skewness = skew(stock['Close'])\n",
    "print(f'Skewness of Closing Prices: {skewness}')\n"
   ]
  },
  {
   "cell_type": "markdown",
   "metadata": {},
   "source": [
    "### Simple Moving Average (SMA)"
   ]
  },
  {
   "cell_type": "code",
   "execution_count": null,
   "metadata": {},
   "outputs": [],
   "source": [
    "stock['SMA_30'] = stock['Close'].rolling(window=30).mean()\n",
    "\n",
    "plt.figure(figsize=(14, 7))\n",
    "plt.plot(stock['Close'], label='Close Price')\n",
    "plt.plot(stock['SMA_30'], label='30-Day SMA', color='orange')\n",
    "plt.title('Stock Price and Simple Moving Average')\n",
    "plt.xlabel('Date')\n",
    "plt.ylabel('Price')\n",
    "plt.legend()\n",
    "plt.grid(True)\n",
    "plt.show()\n"
   ]
  },
  {
   "cell_type": "markdown",
   "metadata": {},
   "source": [
    "### Exponential Moving Average (EMA)"
   ]
  },
  {
   "cell_type": "code",
   "execution_count": null,
   "metadata": {},
   "outputs": [],
   "source": [
    "stock['EMA_30'] = stock['Close'].ewm(span=30, adjust=False).mean()\n",
    "\n",
    "plt.figure(figsize=(14, 7))\n",
    "plt.plot(stock['Close'], label='Close Price')\n",
    "plt.plot(stock['EMA_30'], label='30-Day EMA', color='red')\n",
    "plt.title('Stock Price and Exponential Moving Average')\n",
    "plt.xlabel('Date')\n",
    "plt.ylabel('Price')\n",
    "plt.legend()\n",
    "plt.grid(True)\n",
    "plt.show()\n"
   ]
  },
  {
   "cell_type": "markdown",
   "metadata": {},
   "source": [
    "### Daily Returns"
   ]
  },
  {
   "cell_type": "code",
   "execution_count": null,
   "metadata": {},
   "outputs": [],
   "source": [
    "stock['Daily_Return'] = stock['Close'].pct_change()\n",
    "\n",
    "plt.figure(figsize=(10, 6))\n",
    "plt.hist(stock['Daily_Return'].dropna(), bins=50, alpha=0.75)\n",
    "plt.title('Distribution of Daily Returns')\n",
    "plt.xlabel('Daily Return')\n",
    "plt.ylabel('Frequency')\n",
    "plt.grid(True)\n",
    "plt.show()\n"
   ]
  },
  {
   "cell_type": "markdown",
   "metadata": {},
   "source": [
    "### Correlation between Stocks or Indicators"
   ]
  },
  {
   "cell_type": "code",
   "execution_count": null,
   "metadata": {},
   "outputs": [],
   "source": [
    "correlation = stock[['Close', 'Volume']].corr()\n",
    "print('Correlation Matrix:')\n",
    "print(correlation)\n"
   ]
  },
  {
   "cell_type": "markdown",
   "metadata": {},
   "source": [
    "### Outlier Detection"
   ]
  },
  {
   "cell_type": "code",
   "execution_count": null,
   "metadata": {},
   "outputs": [],
   "source": [
    "import seaborn as sns\n",
    "\n",
    "plt.figure(figsize=(10, 6))\n",
    "sns.boxplot(x=stock['Close'])\n",
    "plt.title('Boxplot of Closing Prices')\n",
    "plt.xlabel('Close Price')\n",
    "plt.show()\n"
   ]
  },
  {
   "cell_type": "markdown",
   "metadata": {},
   "source": [
    "### Time Series Decomposition"
   ]
  },
  {
   "cell_type": "code",
   "execution_count": null,
   "metadata": {},
   "outputs": [],
   "source": [
    "from statsmodels.tsa.seasonal import seasonal_decompose\n",
    "\n",
    "decomposition = seasonal_decompose(stock['Close'], model='additive')\n",
    "decomposition.plot()\n",
    "plt.show()\n"
   ]
  },
  {
   "cell_type": "markdown",
   "metadata": {},
   "source": [
    "### Lag feature Creation"
   ]
  },
  {
   "cell_type": "code",
   "execution_count": null,
   "metadata": {},
   "outputs": [],
   "source": [
    "stock['Lag_1'] = stock['Close'].shift(1)\n",
    "stock['Lag_2'] = stock['Close'].shift(2)\n",
    "stock = stock.dropna()\n"
   ]
  },
  {
   "cell_type": "markdown",
   "metadata": {},
   "source": [
    "### Relative Strength INdex (RSA)"
   ]
  },
  {
   "cell_type": "code",
   "execution_count": null,
   "metadata": {},
   "outputs": [],
   "source": [
    "def calculate_rsi(data, period=14):\n",
    "    delta = data.diff()\n",
    "    gain = (delta.where(delta > 0, 0)).rolling(window=period).mean()\n",
    "    loss = (-delta.where(delta < 0, 0)).rolling(window=period).mean()\n",
    "    rs = gain / loss\n",
    "    rsi = 100 - (100 / (1 + rs))\n",
    "    return rsi\n",
    "\n",
    "stock['RSI'] = calculate_rsi(stock['Close'])\n",
    "\n",
    "plt.figure(figsize=(14, 7))\n",
    "plt.plot(stock['RSI'], label='RSI', color='purple')\n",
    "plt.axhline(70, linestyle='--', color='red')\n",
    "plt.axhline(30, linestyle='--', color='green')\n",
    "plt.title('Relative Strength Index (RSI)')\n",
    "plt.xlabel('Date')\n",
    "plt.ylabel('RSI')\n",
    "plt.legend()\n",
    "plt.grid(True)\n",
    "plt.show()\n"
   ]
  },
  {
   "cell_type": "markdown",
   "metadata": {},
   "source": [
    "### Bollinger Bands"
   ]
  },
  {
   "cell_type": "code",
   "execution_count": null,
   "metadata": {},
   "outputs": [],
   "source": [
    "stock['SMA_20'] = stock['Close'].rolling(window=20).mean()\n",
    "stock['Bollinger_Upper'] = stock['SMA_20'] + (stock['Close'].rolling(window=20).std() * 2)\n",
    "stock['Bollinger_Lower'] = stock['SMA_20'] - (stock['Close'].rolling(window=20).std() * 2)\n",
    "\n",
    "plt.figure(figsize=(14, 7))\n",
    "plt.plot(stock['Close'], label='Close Price')\n",
    "plt.plot(stock['SMA_20'], label='20-Day SMA', color='orange')\n",
    "plt.fill_between(stock.index, stock['Bollinger_Lower'], stock['Bollinger_Upper'], color='gray', alpha=0.3)\n",
    "plt.title('Bollinger Bands')\n",
    "plt.xlabel('Date')\n",
    "plt.ylabel('Price')\n",
    "plt.legend()\n",
    "plt.grid(True)\n",
    "plt.show()\n"
   ]
  },
  {
   "cell_type": "markdown",
   "metadata": {},
   "source": [
    "### MACD (Moving Average Convergence Divergence)"
   ]
  },
  {
   "cell_type": "code",
   "execution_count": null,
   "metadata": {},
   "outputs": [],
   "source": [
    "stock['EMA_12'] = stock['Close'].ewm(span=12, adjust=False).mean()\n",
    "stock['EMA_26'] = stock['Close'].ewm(span=26, adjust=False).mean()\n",
    "stock['MACD'] = stock['EMA_12'] - stock['EMA_26']\n",
    "stock['MACD_Signal'] = stock['MACD'].ewm(span=9, adjust=False).mean()\n",
    "\n",
    "plt.figure(figsize=(14, 7))\n",
    "plt.plot(stock['MACD'], label='MACD', color='blue')\n",
    "plt.plot(stock['MACD_Signal'], label='MACD Signal', color='red')\n",
    "plt.title('MACD and Signal Line')\n",
    "plt.xlabel('Date')\n",
    "plt.ylabel('MACD')\n",
    "plt.legend()\n",
    "plt.grid(True)\n",
    "plt.show()\n"
   ]
  },
  {
   "cell_type": "markdown",
   "metadata": {},
   "source": [
    "### Risk Analysis"
   ]
  },
  {
   "cell_type": "code",
   "execution_count": null,
   "metadata": {},
   "outputs": [],
   "source": [
    "import numpy as np\n",
    "\n",
    "# Calculate daily returns\n",
    "stock['Daily_Return'] = stock['Close'].pct_change().dropna()\n",
    "\n",
    "# Calculate VaR at 95% confidence level\n",
    "VaR_95 = np.percentile(stock['Daily_Return'].dropna(), 5)\n",
    "print(f'Value at Risk (95% confidence level): {VaR_95}')\n"
   ]
  },
  {
   "cell_type": "markdown",
   "metadata": {},
   "source": [
    "## 6. Data Preprocessing"
   ]
  },
  {
   "cell_type": "code",
   "execution_count": null,
   "metadata": {},
   "outputs": [],
   "source": [
    "# Convert the Date Column to datetime format\n",
    "stock['Date'] = pd.to_datetime(stock['Date'])\n",
    "stock.set_index('Date', inplace=True)\n"
   ]
  },
  {
   "cell_type": "markdown",
   "metadata": {},
   "source": [
    "To enhance the model with features derived from the date..."
   ]
  },
  {
   "cell_type": "code",
   "execution_count": null,
   "metadata": {},
   "outputs": [],
   "source": [
    "# Create date based columnss\n",
    "stock['Year'] = stock.index.year\n",
    "stock['Month'] = stock.index.month\n",
    "stock['Day'] = stock.index.day\n",
    "stock['DayOfWeek'] = stock.index.dayofweek\n",
    "stock['IsMonthStart'] = stock.index.is_month_start\n",
    "stock['IsMonthEnd'] = stock.index.is_month_end\n"
   ]
  },
  {
   "cell_type": "markdown",
   "metadata": {},
   "source": [
    "...and capture the effect of previous days' stock prices on the current price."
   ]
  },
  {
   "cell_type": "code",
   "execution_count": null,
   "metadata": {},
   "outputs": [],
   "source": [
    "# Create lagged features\n",
    "stock['Lag_1'] = stock['Close'].shift(1)\n",
    "stock['Lag_2'] = stock['Close'].shift(2)\n",
    "stock['Lag_5'] = stock['Close'].shift(5)\n",
    "stock['Lag_10'] = stock['Close'].shift(10)\n",
    "stock.dropna(inplace=True)"
   ]
  },
  {
   "cell_type": "markdown",
   "metadata": {},
   "source": [
    "...then prepare for model building."
   ]
  },
  {
   "cell_type": "code",
   "execution_count": null,
   "metadata": {},
   "outputs": [],
   "source": [
    "from sklearn.model_selection import train_test_split\n",
    "\n",
    "features = stock.drop(['Close'], axis=1)\n",
    "target = stock['Close']\n",
    "\n",
    "X_train, X_test, y_train, y_test = train_test_split(features, target, test_size=0.2, random_state=42, shuffle=False)"
   ]
  },
  {
   "cell_type": "markdown",
   "metadata": {},
   "source": [
    "## 7. Model Building"
   ]
  },
  {
   "cell_type": "markdown",
   "metadata": {},
   "source": []
  }
 ],
 "metadata": {
  "kernelspec": {
   "display_name": "Python 3",
   "language": "python",
   "name": "python3"
  },
  "language_info": {
   "codemirror_mode": {
    "name": "ipython",
    "version": 3
   },
   "file_extension": ".py",
   "mimetype": "text/x-python",
   "name": "python",
   "nbconvert_exporter": "python",
   "pygments_lexer": "ipython3",
   "version": "3.12.1"
  }
 },
 "nbformat": 4,
 "nbformat_minor": 2
}
